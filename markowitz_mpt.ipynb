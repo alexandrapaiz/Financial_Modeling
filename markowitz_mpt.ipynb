{
 "cells": [
  {
   "cell_type": "markdown",
   "id": "b32990a7",
   "metadata": {},
   "source": [
    "## Markowitz MPT Mean Variance Optimization Model"
   ]
  },
  {
   "cell_type": "markdown",
   "id": "857c1f72",
   "metadata": {},
   "source": [
    "Efficient Frontier Portfolio Model\n",
    "\n",
    "This is a simple way to figure out how much money to put in each asset in a portfolio. It’s based on Modern Portfolio Theory (MPT), which tries to balance return and risk.\n",
    "\n",
    "How it works:\n",
    "- Each asset gets a **weight**, which means the % of your portfolio going into that asset.\n",
    "- The portfolio return is just a **weighted average** of all expected returns.\n",
    "- Risk is measured using **variance** \n",
    "- More importantly, we look at **covariance**, how assets move **together**.\n",
    "\n",
    "Covariance matrix:\n",
    "- Rows and columns represent each asset.\n",
    "- Diagonal values = the variance of each asset.\n",
    "- Off-diagonal = how much two assets move together.\n",
    "- Covariance close to zero = unrelated. Negative = they move in opposite directions.\n",
    "\n",
    "The goal:\n",
    "- Find the **best mix of assets** (the weights) that gives us the **least risk** for a **target level of return**.\n",
    "- This is a **constrained optimization problem**.\n",
    "\n",
    "Constraints:\n",
    "- Portfolio return = a target we set.\n",
    "- All the weights must add up to 1 (investing 100% of your capital).\n",
    "\n",
    "How we solve it:\n",
    "- We use **Lagrange multipliers** to include the constraints in our optimization formula.\n",
    "- Then we use **gradient descent** to iteratively adjust the weights and the lambda values.\n",
    "- Gradient descent moves in the direction that reduces risk while still respecting the constraints.\n",
    "- Since the function is **convex**, there’s only **one global minimum**, so we won’t get stuck.\n",
    "\n",
    "Math (objective function with constraints folded in):\n",
    "\n",
    "$$\n",
    "\\mathcal{L}(\\mathbf{w}, \\lambda_1, \\lambda_2) = \\mathbf{w}^T \\Sigma \\mathbf{w} \n",
    "- \\lambda_1 (\\mathbf{w}^T \\mu - \\mu_{\\text{target}}) \n",
    "- \\lambda_2 (\\mathbf{1}^T \\mathbf{w} - 1)\n",
    "$$\n",
    "\n",
    "- First part is the risk we want to minimize.\n",
    "- Second part enforces the return we want.\n",
    "- Third part enforces that weights add up to 1.\n",
    "\n",
    "What we get at the end:\n",
    "- A specific set of weights that give us the **minimum risk for a chosen return**.\n",
    "- If we do this across many return levels, we trace out the **efficient frontier**.\n",
    "- Each point on that frontier is a different **portfolio mix**, using the same assets.\n",
    "\n",
    "This model assumes:\n",
    "- Returns are normally distributed.\n",
    "- Covariances stay constant.\n",
    "- Risk = variance.\n",
    "- Returns are \"Expected Returns\"\n",
    "\n",
    "---\n",
    "\n",
    "Fragilities (don’t treat this like gospel)\n",
    "\n",
    "- **Variance is not real risk.** Howard Marks says:\n",
    "  > “Risk means more things can happen than will happen.”\n",
    "- Variance only tells you how much something wobbles. It says nothing about **loss**, **tail events**, or **liquidity**.\n",
    "- Expected returns are fragile. A small change in inputs can flip your whole portfolio. But we’re not good at predicting returns anyway.\n",
    "- In real life, correlations break. Assets that were “uncorrelated” start moving together in crises.\n",
    "- Expected return is often derived from historical averages or short-term price trends — but these can be unstable and unreliable as true indicators of long-term return.\n",
    "---\n",
    "\n",
    "How to use this wisely\n",
    "\n",
    "- Don’t treat this model as truth — it’s just a helpful tool.\n",
    "- It’s a **starting point**, not an answer.\n",
    "- Add stress testing, scenario analysis, and common sense.\n",
    "- Look at max drawdown, not just variance.\n",
    "- You can also explore **robust optimization**, **regime-based models**, or **Bayesian methods** that deal better with uncertainty.\n",
    "\n",
    "In short:\n",
    "- This is a clean and elegant model.\n",
    "- But don’t be fooled by the math — always ask what it’s missing.\n"
   ]
  },
  {
   "cell_type": "code",
   "execution_count": 30,
   "id": "406eb246",
   "metadata": {},
   "outputs": [],
   "source": [
    "import pandas as pd\n",
    "import numpy as np\n",
    "import yfinance as yf\n",
    "import matplotlib.pyplot as plt\n",
    "\n",
    "# Ensure plots display nicely\n",
    "plt.style.use('ggplot')\n",
    "\n",
    "# Define your tickers\n",
    "tickers = ['PLTR']  # You can change this list"
   ]
  },
  {
   "cell_type": "code",
   "execution_count": 29,
   "id": "0718cb11",
   "metadata": {},
   "outputs": [
    {
     "name": "stderr",
     "output_type": "stream",
     "text": [
      "Failed to get ticker 'PLTR' reason: Expecting value: line 1 column 1 (char 0)\n",
      "[*********************100%***********************]  1 of 1 completed\n",
      "\n",
      "1 Failed download:\n",
      "['PLTR']: YFTzMissingError('$%ticker%: possibly delisted; no timezone found')\n"
     ]
    },
    {
     "name": "stdout",
     "output_type": "stream",
     "text": [
      "Series([], Name: Adj Close, dtype: float64)\n"
     ]
    }
   ],
   "source": [
    "# Download historical data from Yahoo Finance\n",
    "prices = yf.download(tickers, start=\"2024-01-01\", end=\"2025-01-01\")['Adj Close']\n",
    "\n",
    "# Drop rows with missing values (in case of holidays or IPO gaps)\n",
    "prices.dropna(inplace=True)\n",
    "\n",
    "# Show preview\n",
    "print(prices.head())"
   ]
  },
  {
   "cell_type": "code",
   "execution_count": 31,
   "id": "ff946815",
   "metadata": {},
   "outputs": [
    {
     "ename": "TypeError",
     "evalue": "Series.cov() missing 1 required positional argument: 'other'",
     "output_type": "error",
     "traceback": [
      "\u001b[0;31m---------------------------------------------------------------------------\u001b[0m",
      "\u001b[0;31mTypeError\u001b[0m                                 Traceback (most recent call last)",
      "Cell \u001b[0;32mIn[31], line 6\u001b[0m\n\u001b[1;32m      4\u001b[0m \u001b[38;5;66;03m# Compute annualized expected returns and covariance matrix\u001b[39;00m\n\u001b[1;32m      5\u001b[0m mu \u001b[38;5;241m=\u001b[39m returns_daily\u001b[38;5;241m.\u001b[39mmean() \u001b[38;5;241m*\u001b[39m \u001b[38;5;241m252\u001b[39m\n\u001b[0;32m----> 6\u001b[0m cov \u001b[38;5;241m=\u001b[39m returns_daily\u001b[38;5;241m.\u001b[39mcov() \u001b[38;5;241m*\u001b[39m \u001b[38;5;241m252\u001b[39m\n\u001b[1;32m      8\u001b[0m \u001b[38;5;66;03m# Preview results\u001b[39;00m\n\u001b[1;32m      9\u001b[0m \u001b[38;5;28mprint\u001b[39m(\u001b[38;5;124m\"\u001b[39m\u001b[38;5;130;01m\\n\u001b[39;00m\u001b[38;5;124mExpected annual returns:\u001b[39m\u001b[38;5;124m\"\u001b[39m)\n",
      "\u001b[0;31mTypeError\u001b[0m: Series.cov() missing 1 required positional argument: 'other'"
     ]
    }
   ],
   "source": [
    "# Compute daily returns\n",
    "returns_daily = prices.pct_change().dropna()\n",
    "\n",
    "# Compute annualized expected returns and covariance matrix\n",
    "mu = returns_daily.mean() * 252\n",
    "cov = returns_daily.cov() * 252\n",
    "\n",
    "# Preview results\n",
    "print(\"\\nExpected annual returns:\")\n",
    "print(mu.round(4))\n",
    "\n",
    "print(\"\\nAnnual covariance matrix:\")\n",
    "print(cov.round(4))"
   ]
  },
  {
   "cell_type": "code",
   "execution_count": 10,
   "id": "893f1f62",
   "metadata": {},
   "outputs": [],
   "source": [
    "# Convert to NumPy arrays\n",
    "mu_vec = mu.values\n",
    "cov_mat = cov.values\n",
    "n_assets = len(tickers)\n",
    "\n",
    "# Target return\n",
    "target_return = 0.15\n",
    "\n",
    "# Initialize weights randomly and normalize\n",
    "weights = np.random.rand(n_assets)\n",
    "weights /= weights.sum()\n",
    "\n",
    "# Lagrange multipliers\n",
    "lambda1 = 0.1  # for return constraint\n",
    "lambda2 = 0.1  # for sum-to-1 constraint\n",
    "\n",
    "# Hyperparameters\n",
    "alpha = 0.01\n",
    "n_iters = 2000\n",
    "\n",
    "# History trackers\n",
    "var_hist = []\n",
    "weight_hist = []"
   ]
  },
  {
   "cell_type": "code",
   "execution_count": 11,
   "id": "a3905ac2",
   "metadata": {},
   "outputs": [],
   "source": [
    "for i in range(n_iters):\n",
    "    # Compute gradients\n",
    "    grad_w = 2 * cov_mat @ weights - lambda1 * mu_vec - lambda2 * np.ones(n_assets)\n",
    "    grad_lambda1 = target_return - np.dot(mu_vec, weights)\n",
    "    grad_lambda2 = 1 - np.sum(weights)\n",
    "\n",
    "    # Update weights and lambdas\n",
    "    weights -= alpha * grad_w\n",
    "    lambda1 -= alpha * grad_lambda1\n",
    "    lambda2 -= alpha * grad_lambda2\n",
    "\n",
    "    # Project to feasible region (no shorts, normalize)\n",
    "    weights = np.maximum(weights, 0)\n",
    "    weights /= weights.sum()\n",
    "\n",
    "    # Store history\n",
    "    var = weights.T @ cov_mat @ weights\n",
    "    var_hist.append(var)\n",
    "    weight_hist.append(weights.copy())"
   ]
  },
  {
   "cell_type": "code",
   "execution_count": 12,
   "id": "45d6addd",
   "metadata": {},
   "outputs": [
    {
     "data": {
      "image/png": "[encoded data removed]",
      "text/plain": [
       "<Figure size 1000x600 with 1 Axes>"
      ]
     },
     "metadata": {},
     "output_type": "display_data"
    },
    {
     "data": {
      "image/png": "[encoded data removed]",
      "text/plain": [
       "<Figure size 1000x600 with 1 Axes>"
      ]
     },
     "metadata": {},
     "output_type": "display_data"
    }
   ],
   "source": [
    "# Plot variance over iterations\n",
    "plt.figure(figsize=(10, 6))\n",
    "plt.plot(var_hist)\n",
    "plt.title(\"Portfolio Variance Over Iterations\")\n",
    "plt.xlabel(\"Iteration\")\n",
    "plt.ylabel(\"Variance\")\n",
    "plt.show()\n",
    "\n",
    "# Plot final weights\n",
    "plt.figure(figsize=(10, 6))\n",
    "plt.bar(tickers, weights)\n",
    "plt.title(\"Final Optimized Weights\")\n",
    "plt.ylabel(\"Weight\")\n",
    "plt.show()"
   ]
  },
  {
   "cell_type": "code",
   "execution_count": 13,
   "id": "fa616cb5",
   "metadata": {},
   "outputs": [
    {
     "name": "stdout",
     "output_type": "stream",
     "text": [
      "\n",
      "📊 Final Portfolio Stats\n",
      "Expected Return: nan\n",
      "Variance:        nan\n",
      "Volatility:      nan\n",
      "\n",
      "📌 Final Weights:\n",
      "AAPL    NaN\n",
      "MSFT    NaN\n",
      "GOOGL   NaN\n",
      "dtype: float64\n"
     ]
    }
   ],
   "source": [
    "expected_return = np.dot(weights, mu_vec)\n",
    "variance = weights.T @ cov_mat @ weights\n",
    "volatility = np.sqrt(variance)\n",
    "\n",
    "print(\"\\n📊 Final Portfolio Stats\")\n",
    "print(f\"Expected Return: {expected_return:.4f}\")\n",
    "print(f\"Variance:        {variance:.4f}\")\n",
    "print(f\"Volatility:      {volatility:.4f}\")\n",
    "print(\"\\n📌 Final Weights:\")\n",
    "print(pd.Series(weights, index=tickers).round(4))"
   ]
  }
 ],
 "metadata": {
  "kernelspec": {
   "display_name": "base",
   "language": "python",
   "name": "python3"
  },
  "language_info": {
   "codemirror_mode": {
    "name": "ipython",
    "version": 3
   },
   "file_extension": ".py",
   "mimetype": "text/x-python",
   "name": "python",
   "nbconvert_exporter": "python",
   "pygments_lexer": "ipython3",
   "version": "3.11.5"
  }
 },
 "nbformat": 4,
 "nbformat_minor": 5
}
